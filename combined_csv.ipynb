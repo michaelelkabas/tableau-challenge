{
 "cells": [
  {
   "cell_type": "code",
   "execution_count": 4,
   "metadata": {},
   "outputs": [],
   "source": [
    "import pandas as pd\n",
    "import csv"
   ]
  },
  {
   "cell_type": "code",
   "execution_count": 5,
   "metadata": {},
   "outputs": [
    {
     "name": "stdout",
     "output_type": "stream",
     "text": [
      "Combined and cleaned CSV files successfully!\n",
      "Cleaned data saved to combined_citibike_data_cleaned.csv\n"
     ]
    }
   ],
   "source": [
    "\n",
    "# List of CSV files to inspect and clean\n",
    "csv_files = [\"201312-citibike-tripdata.csv\", \"201311-citibike-tripdata.csv\", \"201310-citibike-tripdata.csv\"]\n",
    "\n",
    "# Function to clean individual dataframes\n",
    "def clean_data(df):\n",
    "    # Convert starttime and stoptime to datetime\n",
    "    df['starttime'] = pd.to_datetime(df['starttime'], errors='coerce')\n",
    "    df['stoptime'] = pd.to_datetime(df['stoptime'], errors='coerce')\n",
    "    \n",
    "    # Drop rows with NaT in starttime or stoptime\n",
    "    df.dropna(subset=['starttime', 'stoptime'], inplace=True)\n",
    "    \n",
    "    # Check for missing values and fill or drop them\n",
    "    df['gender'].fillna(0, inplace=True)\n",
    "    \n",
    "    # Ensure correct data types for numeric fields\n",
    "    df['tripduration'] = pd.to_numeric(df['tripduration'], errors='coerce')\n",
    "    df['start station id'] = pd.to_numeric(df['start station id'], errors='coerce')\n",
    "    df['end station id'] = pd.to_numeric(df['end station id'], errors='coerce')\n",
    "    df['bikeid'] = pd.to_numeric(df['bikeid'], errors='coerce')\n",
    "    df['birth year'] = pd.to_numeric(df['birth year'], errors='coerce')\n",
    "    df['gender'] = pd.to_numeric(df['gender'], errors='coerce')\n",
    "    \n",
    "    # Drop rows with invalid numeric values\n",
    "    df.dropna(subset=['tripduration', 'start station id', 'end station id', 'bikeid', 'birth year', 'gender'], inplace=True)\n",
    "    \n",
    "    return df\n",
    "\n",
    "# Combine and clean all CSV files\n",
    "combined_df = pd.concat([clean_data(pd.read_csv(file)) for file in csv_files])\n",
    "\n",
    "# Save the combined and cleaned DataFrame to a new CSV file\n",
    "cleaned_file = \"combined_citibike_data_cleaned.csv\"\n",
    "combined_df.to_csv(cleaned_file, index=False)\n",
    "\n",
    "print(\"Combined and cleaned CSV files successfully!\")\n",
    "print(f\"Cleaned data saved to {cleaned_file}\")\n"
   ]
  },
  {
   "cell_type": "code",
   "execution_count": 6,
   "metadata": {},
   "outputs": [],
   "source": [
    "\n",
    "# Load your dataset\n",
    "data = pd.read_csv('combined_citibike_data_cleaned.csv')\n",
    "\n",
    "# Define the lookup table for NYC zip codes\n",
    "nyc_zip_codes = [\n",
    "    {\"zip_code\": \"10001\", \"lat_min\": 40.7440, \"lat_max\": 40.7506, \"lon_min\": -74.0060, \"lon_max\": -73.9940},\n",
    "    {\"zip_code\": \"10002\", \"lat_min\": 40.7153, \"lat_max\": 40.7234, \"lon_min\": -73.9890, \"lon_max\": -73.9780},\n",
    "    {\"zip_code\": \"10003\", \"lat_min\": 40.7281, \"lat_max\": 40.7361, \"lon_min\": -73.9950, \"lon_max\": -73.9840},\n",
    "    # Add more zip codes and their lat/lon ranges\n",
    "]\n",
    "\n",
    "# Function to get zip code from lat/lon using the lookup table\n",
    "def get_zip_code_from_lookup(lat, lon, lookup_table):\n",
    "    for entry in lookup_table:\n",
    "        if entry[\"lat_min\"] <= lat <= entry[\"lat_max\"] and entry[\"lon_min\"] <= lon <= entry[\"lon_max\"]:\n",
    "            return entry[\"zip_code\"]\n",
    "    return None\n",
    "\n",
    "# Apply function to get zip codes for start locations\n",
    "data['start_station_zip_code'] = data.apply(lambda row: get_zip_code_from_lookup(row['start station latitude'], row['start station longitude'], nyc_zip_codes), axis=1)\n",
    "\n",
    "# Apply function to get zip codes for end locations\n",
    "data['end_station_zip_code'] = data.apply(lambda row: get_zip_code_from_lookup(row['end station latitude'], row['end station longitude'], nyc_zip_codes), axis=1)\n",
    "\n",
    "# Save the updated dataset with zip codes\n",
    "data.to_csv('zip_codes.csv', index=False)\n"
   ]
  }
 ],
 "metadata": {
  "kernelspec": {
   "display_name": "base",
   "language": "python",
   "name": "python3"
  },
  "language_info": {
   "codemirror_mode": {
    "name": "ipython",
    "version": 3
   },
   "file_extension": ".py",
   "mimetype": "text/x-python",
   "name": "python",
   "nbconvert_exporter": "python",
   "pygments_lexer": "ipython3",
   "version": "3.11.7"
  }
 },
 "nbformat": 4,
 "nbformat_minor": 2
}
